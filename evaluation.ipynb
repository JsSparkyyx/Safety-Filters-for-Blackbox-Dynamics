{
 "cells": [
  {
   "cell_type": "code",
   "execution_count": 2,
   "metadata": {},
   "outputs": [],
   "source": [
    "# from traj_len_15 import DeepAccidentDataset\n",
    "from data.Safe2Unsafe import DeepAccidentDataset\n",
    "from method.ViT import InDCBFTrainer, InDCBFController, Barrier\n",
    "import torch\n",
    "import time\n",
    "import pytorch_lightning as pl"
   ]
  },
  {
   "cell_type": "code",
   "execution_count": 5,
   "metadata": {},
   "outputs": [
    {
     "name": "stderr",
     "output_type": "stream",
     "text": [
      "Some weights of ViTModel were not initialized from the model checkpoint at google/vit-base-patch16-224 and are newly initialized: ['vit.pooler.dense.bias', 'vit.pooler.dense.weight']\n",
      "You should probably TRAIN this model on a down-stream task to be able to use it for predictions and inference.\n"
     ]
    },
    {
     "data": {
      "text/plain": [
       "<All keys matched successfully>"
      ]
     },
     "execution_count": 5,
     "metadata": {},
     "output_type": "execute_result"
    }
   ],
   "source": [
    "data = DeepAccidentDataset(train_batch_size=32,val_batch_size=32,num_workers=16)\n",
    "data.setup()\n",
    "train_dataloader = data.train_dataloader()\n",
    "test_dataloader = data.val_dataloader()\n",
    "barrier = Barrier(2,512)\n",
    "model = InDCBFController(2,\"cuda\",model=\"google/vit-base-patch16-224\",latent_dim=512)\n",
    "checkpoint = torch.load(\"/root/tf-logs/BarrierClassifier/version_1/checkpoints/epoch=80-step=16037.ckpt\")\n",
    "trainer = InDCBFTrainer(model,barrier)\n",
    "trainer.load_state_dict(checkpoint['state_dict'])"
   ]
  },
  {
   "cell_type": "code",
   "execution_count": 6,
   "metadata": {},
   "outputs": [],
   "source": [
    "for idx, (i_all,u_all,label) in enumerate(test_dataloader):\n",
    "    if label.sum()>0:\n",
    "        break"
   ]
  },
  {
   "cell_type": "code",
   "execution_count": 15,
   "metadata": {},
   "outputs": [
    {
     "name": "stdout",
     "output_type": "stream",
     "text": [
      "tensor([[1],\n",
      "        [2],\n",
      "        [0],\n",
      "        [0],\n",
      "        [0],\n",
      "        [0],\n",
      "        [0],\n",
      "        [0],\n",
      "        [0],\n",
      "        [0],\n",
      "        [0],\n",
      "        [0],\n",
      "        [0],\n",
      "        [0],\n",
      "        [0],\n",
      "        [0],\n",
      "        [0],\n",
      "        [0],\n",
      "        [0],\n",
      "        [0],\n",
      "        [0],\n",
      "        [0],\n",
      "        [0],\n",
      "        [0],\n",
      "        [0],\n",
      "        [0],\n",
      "        [0],\n",
      "        [0],\n",
      "        [0],\n",
      "        [0],\n",
      "        [0],\n",
      "        [0]])\n"
     ]
    }
   ],
   "source": [
    "x_init = torch.zeros(1,512).to('cuda')\n",
    "model = trainer.model.to(\"cuda\")\n",
    "barrier = trainer.barrier.to(\"cuda\")\n",
    "print(label)"
   ]
  },
  {
   "cell_type": "code",
   "execution_count": 35,
   "metadata": {},
   "outputs": [
    {
     "name": "stdout",
     "output_type": "stream",
     "text": [
      "[ 0.0508374  -4.17871857] tensor([ 0.0508, -4.1787], device='cuda:0')\n",
      "[ 0.04569366 -3.84402585] tensor([ 0.0457, -3.8440], device='cuda:0')\n",
      "[ 0.04593947 -3.83066034] tensor([ 0.0459, -3.8307], device='cuda:0')\n",
      "[ 0.04822314 -3.99490833] tensor([ 0.0482, -3.9949], device='cuda:0')\n"
     ]
    },
    {
     "ename": "IndexError",
     "evalue": "index 5 is out of bounds for dimension 0 with size 5",
     "output_type": "error",
     "traceback": [
      "\u001b[0;31m---------------------------------------------------------------------------\u001b[0m",
      "\u001b[0;31mIndexError\u001b[0m                                Traceback (most recent call last)",
      "\u001b[0;32m/tmp/ipykernel_1986/3665318544.py\u001b[0m in \u001b[0;36m<module>\u001b[0;34m\u001b[0m\n\u001b[1;32m      4\u001b[0m \u001b[0;32mfor\u001b[0m \u001b[0mi\u001b[0m \u001b[0;32min\u001b[0m \u001b[0mrange\u001b[0m\u001b[0;34m(\u001b[0m\u001b[0;36m1\u001b[0m\u001b[0;34m,\u001b[0m\u001b[0;36m15\u001b[0m\u001b[0;34m)\u001b[0m\u001b[0;34m:\u001b[0m\u001b[0;34m\u001b[0m\u001b[0;34m\u001b[0m\u001b[0m\n\u001b[1;32m      5\u001b[0m \u001b[0;31m# u, result = model(i[0,1].unsqueeze(0),u[0,0].unsqueeze(0),x_p,u[0,0].unsqueeze(0),barrier)\u001b[0m\u001b[0;34m\u001b[0m\u001b[0;34m\u001b[0m\u001b[0;34m\u001b[0m\u001b[0m\n\u001b[0;32m----> 6\u001b[0;31m     \u001b[0mv\u001b[0m\u001b[0;34m,\u001b[0m \u001b[0mresult\u001b[0m\u001b[0;34m,\u001b[0m \u001b[0mprob\u001b[0m \u001b[0;34m=\u001b[0m \u001b[0mmodel\u001b[0m\u001b[0;34m(\u001b[0m\u001b[0mimgs\u001b[0m\u001b[0;34m[\u001b[0m\u001b[0mi\u001b[0m\u001b[0;34m]\u001b[0m\u001b[0;34m.\u001b[0m\u001b[0munsqueeze\u001b[0m\u001b[0;34m(\u001b[0m\u001b[0;36m0\u001b[0m\u001b[0;34m)\u001b[0m\u001b[0;34m,\u001b[0m\u001b[0mus\u001b[0m\u001b[0;34m[\u001b[0m\u001b[0mi\u001b[0m\u001b[0;34m-\u001b[0m\u001b[0;36m1\u001b[0m\u001b[0;34m]\u001b[0m\u001b[0;34m.\u001b[0m\u001b[0munsqueeze\u001b[0m\u001b[0;34m(\u001b[0m\u001b[0;36m0\u001b[0m\u001b[0;34m)\u001b[0m\u001b[0;34m,\u001b[0m\u001b[0mx_p\u001b[0m\u001b[0;34m,\u001b[0m\u001b[0mus\u001b[0m\u001b[0;34m[\u001b[0m\u001b[0mi\u001b[0m\u001b[0;34m]\u001b[0m\u001b[0;34m.\u001b[0m\u001b[0munsqueeze\u001b[0m\u001b[0;34m(\u001b[0m\u001b[0;36m0\u001b[0m\u001b[0;34m)\u001b[0m\u001b[0;34m,\u001b[0m\u001b[0mbarrier\u001b[0m\u001b[0;34m)\u001b[0m\u001b[0;34m\u001b[0m\u001b[0;34m\u001b[0m\u001b[0m\n\u001b[0m\u001b[1;32m      7\u001b[0m     \u001b[0mx_p\u001b[0m \u001b[0;34m=\u001b[0m \u001b[0mmodel\u001b[0m\u001b[0;34m.\u001b[0m\u001b[0mencoder\u001b[0m\u001b[0;34m(\u001b[0m\u001b[0mimgs\u001b[0m\u001b[0;34m[\u001b[0m\u001b[0mi\u001b[0m\u001b[0;34m,\u001b[0m\u001b[0;34m:\u001b[0m\u001b[0;34m]\u001b[0m\u001b[0;34m.\u001b[0m\u001b[0munsqueeze\u001b[0m\u001b[0;34m(\u001b[0m\u001b[0;36m0\u001b[0m\u001b[0;34m)\u001b[0m\u001b[0;34m,\u001b[0m\u001b[0mx_p\u001b[0m\u001b[0;34m,\u001b[0m\u001b[0mus\u001b[0m\u001b[0;34m[\u001b[0m\u001b[0mi\u001b[0m\u001b[0;34m-\u001b[0m\u001b[0;36m1\u001b[0m\u001b[0;34m]\u001b[0m\u001b[0;34m.\u001b[0m\u001b[0munsqueeze\u001b[0m\u001b[0;34m(\u001b[0m\u001b[0;36m0\u001b[0m\u001b[0;34m)\u001b[0m\u001b[0;34m)\u001b[0m\u001b[0;34m\u001b[0m\u001b[0;34m\u001b[0m\u001b[0m\n\u001b[1;32m      8\u001b[0m     \u001b[0mprint\u001b[0m\u001b[0;34m(\u001b[0m\u001b[0mv\u001b[0m\u001b[0;34m.\u001b[0m\u001b[0mvalue\u001b[0m\u001b[0;34m,\u001b[0m\u001b[0mus\u001b[0m\u001b[0;34m[\u001b[0m\u001b[0mi\u001b[0m\u001b[0;34m]\u001b[0m\u001b[0;34m)\u001b[0m\u001b[0;34m\u001b[0m\u001b[0;34m\u001b[0m\u001b[0m\n",
      "\u001b[0;31mIndexError\u001b[0m: index 5 is out of bounds for dimension 0 with size 5"
     ]
    }
   ],
   "source": [
    "imgs = i_all[10].to(\"cuda\")\n",
    "us = u_all[10].to(\"cuda\")\n",
    "x_p = model.encoder(imgs[0,:].unsqueeze(0),x_init,us[0].unsqueeze(0))\n",
    "for i in range(1,15):\n",
    "# u, result = model(i[0,1].unsqueeze(0),u[0,0].unsqueeze(0),x_p,u[0,0].unsqueeze(0),barrier)\n",
    "    v, result, prob = model(imgs[i].unsqueeze(0),us[i-1].unsqueeze(0),x_p,us[i].unsqueeze(0),barrier)\n",
    "    x_p = model.encoder(imgs[i,:].unsqueeze(0),x_p,us[i-1].unsqueeze(0))\n",
    "    print(v.value,us[i])\n",
    "# print(us[0])\n",
    "# print(us[1])"
   ]
  },
  {
   "cell_type": "code",
   "execution_count": 29,
   "metadata": {},
   "outputs": [
    {
     "name": "stdout",
     "output_type": "stream",
     "text": [
      "[-2506.46806297  -386.10911042]\n"
     ]
    },
    {
     "ename": "IndexError",
     "evalue": "index 10 is out of bounds for dimension 0 with size 5",
     "output_type": "error",
     "traceback": [
      "\u001b[0;31m---------------------------------------------------------------------------\u001b[0m",
      "\u001b[0;31mIndexError\u001b[0m                                Traceback (most recent call last)",
      "\u001b[0;32m/tmp/ipykernel_1986/32151628.py\u001b[0m in \u001b[0;36m<module>\u001b[0;34m\u001b[0m\n\u001b[1;32m      1\u001b[0m \u001b[0mprint\u001b[0m\u001b[0;34m(\u001b[0m\u001b[0mv\u001b[0m\u001b[0;34m.\u001b[0m\u001b[0mvalue\u001b[0m\u001b[0;34m)\u001b[0m\u001b[0;34m\u001b[0m\u001b[0;34m\u001b[0m\u001b[0m\n\u001b[0;32m----> 2\u001b[0;31m \u001b[0mprint\u001b[0m\u001b[0;34m(\u001b[0m\u001b[0mus\u001b[0m\u001b[0;34m[\u001b[0m\u001b[0;36m10\u001b[0m\u001b[0;34m]\u001b[0m\u001b[0;34m)\u001b[0m\u001b[0;34m\u001b[0m\u001b[0;34m\u001b[0m\u001b[0m\n\u001b[0m",
      "\u001b[0;31mIndexError\u001b[0m: index 10 is out of bounds for dimension 0 with size 5"
     ]
    }
   ],
   "source": [
    "print(v.value)\n",
    "print(us[10])"
   ]
  },
  {
   "cell_type": "code",
   "execution_count": 37,
   "metadata": {},
   "outputs": [
    {
     "data": {
      "text/plain": [
       "(0.000443073,\n",
       " array([ 0.00862157, -0.03043856], dtype=float32),\n",
       " array([0.0392131], dtype=float32))"
      ]
     },
     "execution_count": 37,
     "metadata": {},
     "output_type": "execute_result"
    }
   ],
   "source": [
    "u_ref = us[1].unsqueeze(0)\n",
    "u_p = us[1].unsqueeze(0)\n",
    "i = imgs[1].unsqueeze(0)\n",
    "import cvxpy as cp\n",
    "u_ref = u_ref.view(-1).cpu().numpy()\n",
    "x = model.encoder(i,x_p,u_p)\n",
    "f, g = model.ode(x)\n",
    "f = f.view(-1).detach().cpu().numpy()\n",
    "g = g.view(-1,2).detach().cpu().numpy()\n",
    "b = barrier(x)\n",
    "d_b = torch.autograd.grad(b,x,retain_graph=True)[0]\n",
    "b = b.view(-1).detach().cpu().numpy()\n",
    "x = x.view(-1).detach().cpu().numpy()\n",
    "d_b = d_b.view(-1).cpu().numpy()\n",
    "u = cp.Variable(u_ref.shape)\n",
    "t1 = d_b @ f\n",
    "t2 = d_b @ g \n",
    "t3 = b/15\n",
    "objective = cp.Minimize(cp.sum_squares(u - u_ref))\n",
    "constraints = [(t1+t2@u+t3)>=0]\n",
    "prob = cp.Problem(objective, constraints)\n",
    "result = prob.solve()\n",
    "t1, t2, t3"
   ]
  },
  {
   "cell_type": "code",
   "execution_count": 24,
   "metadata": {},
   "outputs": [
    {
     "data": {
      "text/plain": [
       "(0.0023901234,\n",
       " array([-0.00282371, -0.01853349], dtype=float32),\n",
       " array([-0.0297253], dtype=float32))"
      ]
     },
     "execution_count": 24,
     "metadata": {},
     "output_type": "execute_result"
    }
   ],
   "source": []
  },
  {
   "cell_type": "code",
   "execution_count": 7,
   "metadata": {},
   "outputs": [
    {
     "name": "stderr",
     "output_type": "stream",
     "text": [
      "100%|██████████| 14/14 [00:09<00:00,  1.40it/s]\n",
      "100%|██████████| 14/14 [01:18<00:00,  5.59s/it]\n",
      "100%|██████████| 14/14 [00:03<00:00,  4.62it/s]\n",
      "100%|██████████| 14/14 [00:03<00:00,  4.62it/s]\n",
      "100%|██████████| 14/14 [00:02<00:00,  4.72it/s]\n",
      "100%|██████████| 14/14 [00:02<00:00,  4.71it/s]\n",
      "100%|██████████| 14/14 [00:02<00:00,  4.71it/s]\n",
      "100%|██████████| 14/14 [00:02<00:00,  4.71it/s]\n",
      "100%|██████████| 14/14 [00:02<00:00,  4.71it/s]\n",
      "100%|██████████| 14/14 [00:02<00:00,  4.71it/s]\n",
      "100%|██████████| 14/14 [00:02<00:00,  4.70it/s]\n",
      "100%|██████████| 14/14 [00:02<00:00,  4.71it/s]\n",
      "100%|██████████| 14/14 [00:02<00:00,  4.69it/s]\n",
      "100%|██████████| 14/14 [00:02<00:00,  4.69it/s]\n",
      "100%|██████████| 14/14 [00:02<00:00,  4.70it/s]\n"
     ]
    }
   ],
   "source": [
    "b_all = []\n",
    "label_all = []\n",
    "for idx, (i,u,label) in enumerate(test_dataloader):\n",
    "    i, u = i.to(\"cuda\"), u.to(\"cuda\")\n",
    "    x,x_tide = model.simulate(i,u,dt=0.1,window_size=1,rtol=5e-6)\n",
    "    b = barrier(x).squeeze(-1)\n",
    "    b_all.append(b.cpu())\n",
    "    label_all.append(label.squeeze(-1))"
   ]
  },
  {
   "cell_type": "code",
   "execution_count": 12,
   "metadata": {},
   "outputs": [],
   "source": [
    "import numpy as np\n",
    "bs = torch.cat(b_all)\n",
    "labels = torch.cat(label_all)\n",
    "results = torch.cat([bs,labels.unsqueeze(-1)],dim=-1).detach().numpy()\n",
    "np.savetxt(\"./results.txt\",results)"
   ]
  },
  {
   "cell_type": "code",
   "execution_count": 43,
   "metadata": {},
   "outputs": [],
   "source": [
    "b = results[:,:-1]\n",
    "label = results[:,-1]\n",
    "mask = np.zeros_like(b)\n",
    "mask[label == 1,-5:] = 1\n",
    "b_safe = b[label == 0]\n",
    "b_unsafe = b[label == 1,-5:]"
   ]
  },
  {
   "cell_type": "code",
   "execution_count": 44,
   "metadata": {},
   "outputs": [
    {
     "name": "stdout",
     "output_type": "stream",
     "text": [
      "Safe 1.0 -0.67952687 0.97396356 0.14432254\n",
      "Unsafe 1.0 -0.6665393 0.91301495 0.343813\n"
     ]
    }
   ],
   "source": [
    "max_safe = b_safe.max()\n",
    "min_safe = b_safe.min()\n",
    "mean_safe = b_safe.mean()\n",
    "std_safe = b_safe.std()\n",
    "max_unsafe = b_unsafe.max()\n",
    "min_unsafe = b_unsafe.min()\n",
    "mean_unsafe = b_unsafe.mean()\n",
    "std_unsafe = b_unsafe.std()\n",
    "print(\"Safe\", max_safe, min_safe, mean_safe, std_safe)\n",
    "print(\"Unsafe\", max_unsafe, min_unsafe, mean_unsafe, std_unsafe)"
   ]
  },
  {
   "cell_type": "code",
   "execution_count": 47,
   "metadata": {},
   "outputs": [],
   "source": []
  },
  {
   "cell_type": "code",
   "execution_count": 4,
   "metadata": {},
   "outputs": [
    {
     "name": "stderr",
     "output_type": "stream",
     "text": [
      "100%|██████████| 14/14 [00:09<00:00,  1.55it/s]\n",
      "100%|██████████| 14/14 [00:07<00:00,  1.82it/s]\n",
      "100%|██████████| 14/14 [00:03<00:00,  4.54it/s]\n",
      "100%|██████████| 14/14 [00:03<00:00,  4.51it/s]\n",
      "100%|██████████| 14/14 [00:03<00:00,  4.59it/s]\n",
      "100%|██████████| 14/14 [00:03<00:00,  4.59it/s]\n",
      "100%|██████████| 14/14 [00:06<00:00,  2.12it/s]\n",
      "100%|██████████| 14/14 [00:09<00:00,  1.54it/s]\n",
      "100%|██████████| 14/14 [00:06<00:00,  2.12it/s]\n",
      "100%|██████████| 14/14 [00:03<00:00,  4.58it/s]\n",
      "100%|██████████| 14/14 [00:03<00:00,  4.63it/s]\n",
      "100%|██████████| 14/14 [00:03<00:00,  4.66it/s]\n",
      "100%|██████████| 14/14 [00:03<00:00,  4.66it/s]\n",
      "100%|██████████| 14/14 [00:05<00:00,  2.35it/s]\n",
      "100%|██████████| 14/14 [00:04<00:00,  3.07it/s]\n",
      "100%|██████████| 14/14 [00:03<00:00,  4.65it/s]\n",
      "100%|██████████| 14/14 [00:03<00:00,  4.12it/s]\n",
      "100%|██████████| 14/14 [00:03<00:00,  4.65it/s]\n",
      "100%|██████████| 14/14 [00:03<00:00,  4.25it/s]\n",
      "100%|██████████| 14/14 [00:03<00:00,  4.07it/s]\n",
      "100%|██████████| 14/14 [00:03<00:00,  4.08it/s]\n",
      "100%|██████████| 14/14 [00:03<00:00,  4.03it/s]\n",
      "100%|██████████| 14/14 [00:03<00:00,  4.09it/s]\n",
      "100%|██████████| 14/14 [00:03<00:00,  4.66it/s]\n",
      "100%|██████████| 14/14 [00:03<00:00,  4.19it/s]\n",
      "100%|██████████| 14/14 [00:03<00:00,  4.66it/s]\n",
      "100%|██████████| 14/14 [00:03<00:00,  3.73it/s]\n",
      "100%|██████████| 14/14 [00:03<00:00,  4.25it/s]\n",
      "100%|██████████| 14/14 [00:03<00:00,  3.94it/s]\n",
      "100%|██████████| 14/14 [00:03<00:00,  4.09it/s]\n",
      "100%|██████████| 14/14 [00:03<00:00,  4.03it/s]\n",
      "100%|██████████| 14/14 [00:03<00:00,  4.02it/s]\n",
      "100%|██████████| 14/14 [00:03<00:00,  4.06it/s]\n",
      "100%|██████████| 14/14 [00:03<00:00,  4.21it/s]\n",
      "100%|██████████| 14/14 [00:03<00:00,  4.00it/s]\n",
      "100%|██████████| 14/14 [00:03<00:00,  4.06it/s]\n",
      "100%|██████████| 14/14 [00:03<00:00,  4.04it/s]\n",
      "100%|██████████| 14/14 [00:03<00:00,  4.01it/s]\n",
      "100%|██████████| 14/14 [00:03<00:00,  3.97it/s]\n",
      "100%|██████████| 14/14 [00:03<00:00,  3.99it/s]\n",
      "100%|██████████| 14/14 [00:03<00:00,  3.97it/s]\n",
      "100%|██████████| 14/14 [00:03<00:00,  4.20it/s]\n",
      "100%|██████████| 14/14 [00:03<00:00,  4.09it/s]\n",
      "100%|██████████| 14/14 [00:03<00:00,  4.04it/s]\n",
      "100%|██████████| 14/14 [00:03<00:00,  4.64it/s]\n",
      "100%|██████████| 14/14 [00:03<00:00,  3.85it/s]\n",
      "100%|██████████| 14/14 [00:03<00:00,  4.14it/s]\n",
      "100%|██████████| 14/14 [00:03<00:00,  4.09it/s]\n",
      "100%|██████████| 14/14 [00:03<00:00,  4.22it/s]\n",
      "100%|██████████| 14/14 [00:03<00:00,  4.11it/s]\n",
      "100%|██████████| 14/14 [00:03<00:00,  4.08it/s]\n",
      "100%|██████████| 14/14 [00:03<00:00,  4.64it/s]\n",
      "100%|██████████| 14/14 [00:03<00:00,  4.16it/s]\n",
      "100%|██████████| 14/14 [00:03<00:00,  4.08it/s]\n",
      "100%|██████████| 14/14 [00:03<00:00,  4.04it/s]\n",
      "100%|██████████| 14/14 [00:03<00:00,  4.00it/s]\n",
      "100%|██████████| 14/14 [00:03<00:00,  4.11it/s]\n",
      "100%|██████████| 14/14 [00:03<00:00,  4.15it/s]\n",
      "100%|██████████| 14/14 [00:03<00:00,  4.07it/s]\n",
      "100%|██████████| 14/14 [00:03<00:00,  3.99it/s]\n",
      "100%|██████████| 14/14 [00:03<00:00,  4.06it/s]\n",
      "100%|██████████| 14/14 [00:03<00:00,  4.14it/s]\n",
      "100%|██████████| 14/14 [00:03<00:00,  4.19it/s]\n",
      "100%|██████████| 14/14 [00:03<00:00,  4.23it/s]\n",
      "100%|██████████| 14/14 [00:03<00:00,  4.06it/s]\n",
      "100%|██████████| 14/14 [00:03<00:00,  4.20it/s]\n",
      "100%|██████████| 14/14 [00:03<00:00,  4.07it/s]\n",
      "100%|██████████| 14/14 [00:03<00:00,  4.15it/s]\n",
      "100%|██████████| 14/14 [00:03<00:00,  4.08it/s]\n",
      "100%|██████████| 14/14 [00:03<00:00,  4.12it/s]\n",
      "100%|██████████| 14/14 [00:03<00:00,  4.15it/s]\n",
      "100%|██████████| 14/14 [00:03<00:00,  4.15it/s]\n",
      "100%|██████████| 14/14 [00:03<00:00,  4.15it/s]\n",
      "100%|██████████| 14/14 [00:03<00:00,  3.99it/s]\n",
      "100%|██████████| 14/14 [00:03<00:00,  4.00it/s]\n",
      "100%|██████████| 14/14 [00:03<00:00,  4.01it/s]\n",
      "100%|██████████| 14/14 [00:03<00:00,  4.00it/s]\n",
      "100%|██████████| 14/14 [00:03<00:00,  4.08it/s]\n",
      "100%|██████████| 14/14 [00:03<00:00,  3.96it/s]\n",
      "100%|██████████| 14/14 [00:03<00:00,  4.13it/s]\n",
      "100%|██████████| 14/14 [00:03<00:00,  4.31it/s]\n",
      "100%|██████████| 14/14 [00:03<00:00,  4.05it/s]\n",
      "100%|██████████| 14/14 [00:03<00:00,  3.98it/s]\n",
      "100%|██████████| 14/14 [00:03<00:00,  4.14it/s]\n",
      "100%|██████████| 14/14 [00:03<00:00,  3.98it/s]\n",
      "100%|██████████| 14/14 [00:03<00:00,  4.11it/s]\n",
      "100%|██████████| 14/14 [00:03<00:00,  4.04it/s]\n",
      "100%|██████████| 14/14 [00:03<00:00,  4.10it/s]\n",
      "100%|██████████| 14/14 [00:03<00:00,  4.03it/s]\n",
      "100%|██████████| 14/14 [00:03<00:00,  4.11it/s]\n",
      "100%|██████████| 14/14 [00:03<00:00,  4.00it/s]\n",
      "100%|██████████| 14/14 [00:03<00:00,  4.11it/s]\n",
      "100%|██████████| 14/14 [00:03<00:00,  4.09it/s]\n",
      "100%|██████████| 14/14 [00:03<00:00,  4.04it/s]\n",
      "100%|██████████| 14/14 [00:03<00:00,  4.64it/s]\n",
      "100%|██████████| 14/14 [00:04<00:00,  3.07it/s]\n",
      "100%|██████████| 14/14 [00:04<00:00,  3.34it/s]\n",
      "100%|██████████| 14/14 [00:03<00:00,  4.57it/s]\n",
      "100%|██████████| 14/14 [00:03<00:00,  4.56it/s]\n",
      "100%|██████████| 14/14 [00:02<00:00,  4.69it/s]\n",
      "100%|██████████| 14/14 [00:02<00:00,  4.67it/s]\n",
      "100%|██████████| 14/14 [00:02<00:00,  4.69it/s]\n",
      "100%|██████████| 14/14 [00:02<00:00,  4.67it/s]\n",
      "100%|██████████| 14/14 [00:02<00:00,  4.69it/s]\n",
      "100%|██████████| 14/14 [00:03<00:00,  4.66it/s]\n",
      "100%|██████████| 14/14 [00:02<00:00,  4.69it/s]\n",
      "100%|██████████| 14/14 [00:02<00:00,  4.67it/s]\n",
      "100%|██████████| 14/14 [00:03<00:00,  4.62it/s]\n",
      "100%|██████████| 14/14 [00:03<00:00,  4.66it/s]\n",
      "100%|██████████| 14/14 [00:02<00:00,  4.68it/s]\n",
      "100%|██████████| 14/14 [00:03<00:00,  4.54it/s]\n",
      "100%|██████████| 14/14 [00:02<00:00,  4.67it/s]\n",
      "100%|██████████| 14/14 [00:02<00:00,  4.67it/s]\n",
      "100%|██████████| 14/14 [00:02<00:00,  4.69it/s]\n",
      "100%|██████████| 14/14 [00:02<00:00,  4.67it/s]\n",
      "100%|██████████| 14/14 [00:02<00:00,  4.70it/s]\n",
      "100%|██████████| 14/14 [00:03<00:00,  4.66it/s]\n",
      "100%|██████████| 14/14 [00:02<00:00,  4.70it/s]\n",
      "100%|██████████| 14/14 [00:03<00:00,  4.66it/s]\n",
      "100%|██████████| 14/14 [00:02<00:00,  4.69it/s]\n"
     ]
    }
   ],
   "source": [
    "b_all_train = []\n",
    "label_all_train = []\n",
    "for idx, (i,u,label) in enumerate(train_dataloader):\n",
    "    i, u = i.to(\"cuda\"), u.to(\"cuda\")\n",
    "    x,x_tide = model.simulate(i,u,dt=0.1,window_size=1,rtol=5e-6)\n",
    "    b = barrier(x).squeeze(-1)\n",
    "    b_all_train.append(b.cpu())\n",
    "    label_all_train.append(label.squeeze(-1))"
   ]
  },
  {
   "cell_type": "code",
   "execution_count": 5,
   "metadata": {},
   "outputs": [],
   "source": [
    "import numpy as np\n",
    "bs_train = torch.cat(b_all_train)\n",
    "labels_train = torch.cat(label_all_train)\n",
    "results_train = torch.cat([bs_train,labels_train.unsqueeze(-1)],dim=-1).detach().numpy()\n",
    "np.savetxt(\"./results_train.txt\",results_train)"
   ]
  },
  {
   "cell_type": "code",
   "execution_count": 6,
   "metadata": {},
   "outputs": [],
   "source": [
    "b = results_train[:,:-1]\n",
    "label = results_train[:,-1]\n",
    "mask = np.zeros_like(b)\n",
    "mask[label == 1,-5:] = 1\n",
    "b_safe = b[label == 0]\n",
    "b_unsafe = b[label == 1,-5:]"
   ]
  },
  {
   "cell_type": "code",
   "execution_count": 7,
   "metadata": {},
   "outputs": [
    {
     "name": "stdout",
     "output_type": "stream",
     "text": [
      "Safe 1.0 -0.60138047 0.9851279 0.0887461\n",
      "Unsafe 0.9999999 -0.7876854 0.76094234 0.52417785\n"
     ]
    }
   ],
   "source": [
    "max_safe = b_safe.max()\n",
    "min_safe = b_safe.min()\n",
    "mean_safe = b_safe.mean()\n",
    "std_safe = b_safe.std()\n",
    "max_unsafe = b_unsafe.max()\n",
    "min_unsafe = b_unsafe.min()\n",
    "mean_unsafe = b_unsafe.mean()\n",
    "std_unsafe = b_unsafe.std()\n",
    "print(\"Safe\", max_safe, min_safe, mean_safe, std_safe)\n",
    "print(\"Unsafe\", max_unsafe, min_unsafe, mean_unsafe, std_unsafe)"
   ]
  },
  {
   "cell_type": "code",
   "execution_count": null,
   "metadata": {},
   "outputs": [],
   "source": []
  }
 ],
 "metadata": {
  "kernelspec": {
   "display_name": "base",
   "language": "python",
   "name": "python3"
  },
  "language_info": {
   "codemirror_mode": {
    "name": "ipython",
    "version": 3
   },
   "file_extension": ".py",
   "mimetype": "text/x-python",
   "name": "python",
   "nbconvert_exporter": "python",
   "pygments_lexer": "ipython3",
   "version": "3.8.10"
  }
 },
 "nbformat": 4,
 "nbformat_minor": 2
}
