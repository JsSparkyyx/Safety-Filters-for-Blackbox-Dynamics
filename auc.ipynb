{
 "cells": [
  {
   "cell_type": "code",
   "execution_count": 2,
   "metadata": {},
   "outputs": [],
   "source": [
    "import numpy as np\n",
    "from sklearn.metrics import auc, roc_curve, roc_auc_score"
   ]
  },
  {
   "cell_type": "code",
   "execution_count": 5,
   "metadata": {},
   "outputs": [
    {
     "name": "stdout",
     "output_type": "stream",
     "text": [
      "indcbfunfused,vit,0.686389193136181,0.6742106958762886\n",
      "sablasunfused,vit,0.5,0.5\n"
     ]
    }
   ],
   "source": [
    "# for method in [\"indcbf\",'sablas']:\n",
    "for method in [\"indcbfunfused\",'sablasunfused']:\n",
    "    # for backbone in [\"vit\",\"clip\",\"vc1\",\"resnet\"]:\n",
    "    for backbone in [\"vit\"]:\n",
    "        path = f\"results_{method}_{backbone}.txt\"\n",
    "        results = np.loadtxt(path)\n",
    "        pred = results[:,:-1].flatten()\n",
    "        y = results[:,-1]\n",
    "        y = np.repeat(y,5)\n",
    "        y[y==2] = 0\n",
    "        fpr, tpr, thresholds = roc_curve(y, pred, pos_label=0)\n",
    "        auc_state = auc(fpr, tpr)\n",
    "        path = f\"results_{method}_grad_{backbone}.txt\"\n",
    "        results = np.loadtxt(path)\n",
    "        pred = results[:,:4].flatten()\n",
    "        y = results[:,-1]\n",
    "        y = np.repeat(y,4)\n",
    "        y[y==2] = 1\n",
    "        fpr, tpr, thresholds = roc_curve(y, pred, pos_label=0)\n",
    "        auc_action = auc(fpr, tpr)\n",
    "        print(f\"{method},{backbone},{auc_state},{auc_action}\")"
   ]
  },
  {
   "cell_type": "code",
   "execution_count": 40,
   "metadata": {},
   "outputs": [],
   "source": [
    "from sklearn.metrics import auc, roc_curve, accuracy_score"
   ]
  },
  {
   "cell_type": "code",
   "execution_count": 20,
   "metadata": {},
   "outputs": [
    {
     "name": "stdout",
     "output_type": "stream",
     "text": [
      "indcbfunfused,vit,97.56$\\pm$1.38&29.13$\\pm$15.53&71.22$\\pm$3.85&97.85$\\pm$1.17&19.24$\\pm$10.65&65.08$\\pm$3.29\n"
     ]
    }
   ],
   "source": [
    "for method in [\"indcbfunfused\"]:\n",
    "# for method in ['sablasunfused']:\n",
    "    # for backbone in [\"vit\",\"clip\",\"vc1\",\"resnet\"]:\n",
    "    for backbone in [\"vit\"]:\n",
    "        tpr_states = []\n",
    "        fnr_states = []\n",
    "        auc_states = []\n",
    "        tpr_actions = []\n",
    "        fnr_actions = []\n",
    "        auc_actions = []\n",
    "        for seed in [\"42\",\"43\",\"44\",\"45\",\"46\"]:\n",
    "        # for seed in [\"43\",\"44\",\"45\",\"46\"]:\n",
    "            path = f\"./results_new/results_{method}_{backbone}_{seed}.txt\"\n",
    "            results = np.loadtxt(path)\n",
    "            pred = results[:,:-1].flatten()\n",
    "            y = results[:,-1]\n",
    "            y = np.repeat(y,5)\n",
    "            y[y==2] = 0\n",
    "            tpr_state = (pred[y==0]>0).sum()/(y==0).sum()\n",
    "            fnr_state = (pred[y==1]<0).sum()/(y==1).sum()\n",
    "            fpr, tpr, thresholds = roc_curve(y, pred, pos_label=0)\n",
    "            auc_state = auc(fpr, tpr)\n",
    "            tpr_states.append(tpr_state)\n",
    "            fnr_states.append(fnr_state)\n",
    "            auc_states.append(auc_state)\n",
    "            path = f\"./results_new/results_{method}_grad_{backbone}_{seed}.txt\"\n",
    "            results = np.loadtxt(path)\n",
    "            pred = results[:,:4].flatten()\n",
    "            y = results[:,-1]\n",
    "            y = np.repeat(y,4)\n",
    "            y[y==2] = 1\n",
    "            tpr_action = (pred[y==0]>0).sum()/(y==0).sum()\n",
    "            fnr_action = (pred[y==1]<0).sum()/(y==1).sum()\n",
    "            fpr, tpr, thresholds = roc_curve(y, pred, pos_label=0)\n",
    "            auc_action = auc(fpr, tpr)\n",
    "            tpr_actions.append(tpr_action)\n",
    "            fnr_actions.append(fnr_action)\n",
    "            auc_actions.append(auc_action)\n",
    "        tpr_state_mean = round(np.mean(tpr_states)*100,2)\n",
    "        fnr_state_mean = round(np.mean(fnr_states)*100,2)\n",
    "        auc_state_mean = round(np.mean(auc_states)*100,2)\n",
    "        tpr_action_mean = round(np.mean(tpr_actions)*100,2)\n",
    "        fnr_action_mean = round(np.mean(fnr_actions)*100,2)\n",
    "        auc_action_mean = round(np.mean(auc_actions)*100,2)\n",
    "        tpr_state_std = round(np.std(tpr_states)*100,2)\n",
    "        fnr_state_std = round(np.std(fnr_states)*100,2)\n",
    "        auc_state_std = round(np.std(auc_states)*100,2)\n",
    "        tpr_action_std = round(np.std(tpr_actions)*100,2)\n",
    "        fnr_action_std = round(np.std(fnr_actions)*100,2)\n",
    "        auc_action_std = round(np.std(auc_actions)*100,2)\n",
    "        print(f\"{method},{backbone},{tpr_state_mean}$\\pm${tpr_state_std}&{fnr_state_mean}$\\pm${fnr_state_std}&{auc_state_mean}$\\pm${auc_state_std}&{tpr_action_mean}$\\pm${tpr_action_std}&{fnr_action_mean}$\\pm${fnr_action_std}&{auc_action_mean}$\\pm${auc_action_std}\")"
   ]
  },
  {
   "cell_type": "code",
   "execution_count": 14,
   "metadata": {},
   "outputs": [
    {
     "name": "stdout",
     "output_type": "stream",
     "text": [
      "groundtruth_indcbf,84.42$\\pm$0.0&27.27$\\pm$0.0&65.44$\\pm$0.0&89.5$\\pm$0.0&28.41$\\pm$0.0&69.54$\\pm$0.0\n"
     ]
    }
   ],
   "source": [
    "# for method in [\"indcbf\",'sablas']:\n",
    "# for method in [\"groundtruth_indcbf\",'groundtruth_sablas']:\n",
    "for method in [\"groundtruth_indcbf\"]:\n",
    "    tpr_states = []\n",
    "    fnr_states = []\n",
    "    auc_states = []\n",
    "    tpr_actions = []\n",
    "    fnr_actions = []\n",
    "    auc_actions = []\n",
    "    # for seed in [\"42\",\"43\",\"44\",\"45\",\"46\"]:\n",
    "    for seed in [\"42\"]:\n",
    "        path = f\"./res/results_{method}_{seed}.txt\"\n",
    "        results = np.loadtxt(path)\n",
    "        pred = results[:,:-1].flatten()\n",
    "        y = results[:,-1]\n",
    "        y = np.repeat(y,5)\n",
    "        y[y==2] = 0\n",
    "        tpr_state = (pred[y==0]>0).sum()/(y==0).sum()\n",
    "        fnr_state = (pred[y==1]<0).sum()/(y==1).sum()\n",
    "        fpr, tpr, thresholds = roc_curve(y, pred, pos_label=0)\n",
    "        auc_state = auc(fpr, tpr)\n",
    "        tpr_states.append(tpr_state)\n",
    "        fnr_states.append(fnr_state)\n",
    "        auc_states.append(auc_state)\n",
    "        path = f\"./res/results_{method}_grad_{seed}.txt\"\n",
    "        results = np.loadtxt(path)\n",
    "        pred = results[:,:4].flatten()\n",
    "        y = results[:,-1]\n",
    "        y = np.repeat(y,4)\n",
    "        y[y==2] = 1\n",
    "        tpr_action = (pred[y==0]>0).sum()/(y==0).sum()\n",
    "        fnr_action = (pred[y==1]<0).sum()/(y==1).sum()\n",
    "        fpr, tpr, thresholds = roc_curve(y, pred, pos_label=0)\n",
    "        auc_action = auc(fpr, tpr)\n",
    "        tpr_actions.append(tpr_action)\n",
    "        fnr_actions.append(fnr_action)\n",
    "        auc_actions.append(auc_action)\n",
    "    tpr_state_mean = round(np.mean(tpr_states)*100,2)\n",
    "    fnr_state_mean = round(np.mean(fnr_states)*100,2)\n",
    "    auc_state_mean = round(np.mean(auc_states)*100,2)\n",
    "    tpr_action_mean = round(np.mean(tpr_actions)*100,2)\n",
    "    fnr_action_mean = round(np.mean(fnr_actions)*100,2)\n",
    "    auc_action_mean = round(np.mean(auc_actions)*100,2)\n",
    "    tpr_state_std = round(np.std(tpr_states)*100,2)\n",
    "    fnr_state_std = round(np.std(fnr_states)*100,2)\n",
    "    auc_state_std = round(np.std(auc_states)*100,2)\n",
    "    tpr_action_std = round(np.std(tpr_actions)*100,2)\n",
    "    fnr_action_std = round(np.std(fnr_actions)*100,2)\n",
    "    auc_action_std = round(np.std(auc_actions)*100,2)\n",
    "    print(f\"{method},{tpr_state_mean}$\\pm${tpr_state_std}&{fnr_state_mean}$\\pm${fnr_state_std}&{auc_state_mean}$\\pm${auc_state_std}&{tpr_action_mean}$\\pm${tpr_action_std}&{fnr_action_mean}$\\pm${fnr_action_std}&{auc_action_mean}$\\pm${auc_action_std}\")"
   ]
  },
  {
   "cell_type": "code",
   "execution_count": 7,
   "metadata": {},
   "outputs": [
    {
     "name": "stdout",
     "output_type": "stream",
     "text": [
      "groundtruth_dh,NA&NA&NA&94.43$\\pm$3.98&1.59$\\pm$1.7&37.71$\\pm$5.36\n"
     ]
    }
   ],
   "source": [
    "# for method in [\"indcbf\",'sablas']:\n",
    "for method in [\"groundtruth_dh\"]:\n",
    "    tpr_states = []\n",
    "    fnr_states = []\n",
    "    auc_states = []\n",
    "    tpr_actions = []\n",
    "    fnr_actions = []\n",
    "    auc_actions = []\n",
    "    for seed in [\"42\",\"43\",\"44\",\"45\",\"46\"]:\n",
    "        path = f\"./res/results_{method}_{seed}.txt\"\n",
    "        results = np.loadtxt(path)\n",
    "        pred = results[:,:-1].flatten()\n",
    "        y = results[:,-1]\n",
    "        y = np.repeat(y,5)\n",
    "        y[y==2] = 0\n",
    "        tpr_state = (pred[y==0]>0).sum()/(y==0).sum()\n",
    "        fnr_state = (pred[y==1]<0).sum()/(y==1).sum()\n",
    "        fpr, tpr, thresholds = roc_curve(y, pred, pos_label=0)\n",
    "        auc_state = auc(fpr, tpr)\n",
    "        tpr_states.append(tpr_state)\n",
    "        fnr_states.append(fnr_state)\n",
    "        auc_states.append(auc_state)\n",
    "    tpr_state_mean = round(np.mean(tpr_states)*100,2)\n",
    "    fnr_state_mean = round(np.mean(fnr_states)*100,2)\n",
    "    auc_state_mean = round(np.mean(auc_states)*100,2)\n",
    "    tpr_state_std = round(np.std(tpr_states)*100,2)\n",
    "    fnr_state_std = round(np.std(fnr_states)*100,2)\n",
    "    auc_state_std = round(np.std(auc_states)*100,2)\n",
    "    print(f\"{method},NA&NA&NA&{tpr_action_mean}$\\pm${tpr_action_std}&{fnr_action_mean}$\\pm${fnr_action_std}&{auc_action_mean}$\\pm${auc_action_std}\")"
   ]
  },
  {
   "cell_type": "code",
   "execution_count": null,
   "metadata": {},
   "outputs": [],
   "source": []
  }
 ],
 "metadata": {
  "kernelspec": {
   "display_name": "base",
   "language": "python",
   "name": "python3"
  },
  "language_info": {
   "codemirror_mode": {
    "name": "ipython",
    "version": 3
   },
   "file_extension": ".py",
   "mimetype": "text/x-python",
   "name": "python",
   "nbconvert_exporter": "python",
   "pygments_lexer": "ipython3",
   "version": "3.8.10"
  }
 },
 "nbformat": 4,
 "nbformat_minor": 2
}
