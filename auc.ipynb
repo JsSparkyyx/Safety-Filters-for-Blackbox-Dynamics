{
 "cells": [
  {
   "cell_type": "code",
   "execution_count": 2,
   "metadata": {},
   "outputs": [],
   "source": [
    "import numpy as np\n",
    "from sklearn.metrics import auc, roc_curve, roc_auc_score"
   ]
  },
  {
   "cell_type": "code",
   "execution_count": 5,
   "metadata": {},
   "outputs": [
    {
     "name": "stdout",
     "output_type": "stream",
     "text": [
      "indcbfunfused,vit,0.686389193136181,0.6742106958762886\n",
      "sablasunfused,vit,0.5,0.5\n"
     ]
    }
   ],
   "source": [
    "# for method in [\"indcbf\",'sablas']:\n",
    "for method in [\"indcbfunfused\",'sablasunfused']:\n",
    "    # for backbone in [\"vit\",\"clip\",\"vc1\",\"resnet\"]:\n",
    "    for backbone in [\"vit\"]:\n",
    "        path = f\"results_{method}_{backbone}.txt\"\n",
    "        results = np.loadtxt(path)\n",
    "        pred = results[:,:-1].flatten()\n",
    "        y = results[:,-1]\n",
    "        y = np.repeat(y,5)\n",
    "        y[y==2] = 0\n",
    "        fpr, tpr, thresholds = roc_curve(y, pred, pos_label=0)\n",
    "        auc_state = auc(fpr, tpr)\n",
    "        path = f\"results_{method}_grad_{backbone}.txt\"\n",
    "        results = np.loadtxt(path)\n",
    "        pred = results[:,:4].flatten()\n",
    "        y = results[:,-1]\n",
    "        y = np.repeat(y,4)\n",
    "        y[y==2] = 1\n",
    "        fpr, tpr, thresholds = roc_curve(y, pred, pos_label=0)\n",
    "        auc_action = auc(fpr, tpr)\n",
    "        print(f\"{method},{backbone},{auc_state},{auc_action}\")"
   ]
  },
  {
   "cell_type": "code",
   "execution_count": 40,
   "metadata": {},
   "outputs": [],
   "source": [
    "from sklearn.metrics import auc, roc_curve, accuracy_score"
   ]
  },
  {
   "cell_type": "code",
   "execution_count": 6,
   "metadata": {},
   "outputs": [
    {
     "name": "stdout",
     "output_type": "stream",
     "text": [
      "indcbfunfused,vit,0.9674698795180723,0.2,0.9780927835051546,0.125\n",
      "sablasunfused,vit,1.0,0.0,1.0,0.0\n"
     ]
    }
   ],
   "source": [
    "# for method in [\"indcbf\",'sablas']:\n",
    "for method in [\"indcbfunfused\",'sablasunfused']:\n",
    "    # for backbone in [\"vit\",\"clip\",\"vc1\",\"resnet\"]:\n",
    "    for backbone in [\"vit\"]:\n",
    "        path = f\"results_{method}_{backbone}.txt\"\n",
    "        results = np.loadtxt(path)\n",
    "        pred = results[:,:-1].flatten()\n",
    "        y = results[:,-1]\n",
    "        y = np.repeat(y,5)\n",
    "        y[y==2] = 0\n",
    "        tpr_state = (pred[y==0]>0).sum()/(y==0).sum()\n",
    "        fnr_state = (pred[y==1]<0).sum()/(y==1).sum()\n",
    "        path = f\"results_{method}_grad_{backbone}.txt\"\n",
    "        results = np.loadtxt(path)\n",
    "        pred = results[:,:4].flatten()\n",
    "        y = results[:,-1]\n",
    "        y = np.repeat(y,4)\n",
    "        y[y==2] = 1\n",
    "        tpr_action = (pred[y==0]>0).sum()/(y==0).sum()\n",
    "        fnr_action = (pred[y==1]<0).sum()/(y==1).sum()\n",
    "        print(f\"{method},{backbone},{tpr_state},{fnr_state},{tpr_action},{fnr_action}\")"
   ]
  },
  {
   "cell_type": "code",
   "execution_count": null,
   "metadata": {},
   "outputs": [],
   "source": []
  }
 ],
 "metadata": {
  "kernelspec": {
   "display_name": "base",
   "language": "python",
   "name": "python3"
  },
  "language_info": {
   "codemirror_mode": {
    "name": "ipython",
    "version": 3
   },
   "file_extension": ".py",
   "mimetype": "text/x-python",
   "name": "python",
   "nbconvert_exporter": "python",
   "pygments_lexer": "ipython3",
   "version": "3.8.10"
  }
 },
 "nbformat": 4,
 "nbformat_minor": 2
}
